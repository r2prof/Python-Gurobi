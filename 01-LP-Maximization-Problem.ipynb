{
 "cells": [
  {
   "cell_type": "markdown",
   "id": "6e0f5d3c",
   "metadata": {},
   "source": [
    "### LP - Minimization Problem\n"
   ]
  },
  {
   "cell_type": "markdown",
   "id": "5ed682d6",
   "metadata": {},
   "source": [
    "$$Min\\rightarrow \\$6x_1+\\$3x_2$$\n",
    "$$2x_1+ 4x_2\\ge 16$$\n",
    "$$4x_1+ 3x_2\\ge 24$$\n",
    "$$x_1, x_2\\ge 0$$\n"
   ]
  },
  {
   "cell_type": "code",
   "execution_count": 2,
   "id": "8b0f0ac6",
   "metadata": {},
   "outputs": [],
   "source": [
    "# Import the Gurobi module into Python environment\n",
    "\n",
    "import gurobipy as gp\n",
    "from gurobipy import GRB"
   ]
  },
  {
   "cell_type": "code",
   "execution_count": null,
   "id": "de9b0ac4",
   "metadata": {},
   "outputs": [],
   "source": [
    "# Create a new model\n",
    "\n",
    "model = gp.Model()"
   ]
  },
  {
   "cell_type": "code",
   "execution_count": 3,
   "id": "dcaf311d",
   "metadata": {},
   "outputs": [
    {
     "ename": "NameError",
     "evalue": "name 'model' is not defined",
     "output_type": "error",
     "traceback": [
      "\u001b[0;31m---------------------------------------------------------------------------\u001b[0m",
      "\u001b[0;31mNameError\u001b[0m                                 Traceback (most recent call last)",
      "Cell \u001b[0;32mIn[3], line 3\u001b[0m\n\u001b[1;32m      1\u001b[0m \u001b[39m# Create decision variables\u001b[39;00m\n\u001b[0;32m----> 3\u001b[0m x1 \u001b[39m=\u001b[39m model\u001b[39m.\u001b[39maddVar(lb\u001b[39m=\u001b[39m\u001b[39m0\u001b[39m, vtype\u001b[39m=\u001b[39mGRB\u001b[39m.\u001b[39mCONTINUOUS, name\u001b[39m=\u001b[39m\u001b[39m\"\u001b[39m\u001b[39mx1\u001b[39m\u001b[39m\"\u001b[39m)\n\u001b[1;32m      4\u001b[0m x2 \u001b[39m=\u001b[39m model\u001b[39m.\u001b[39maddVar(lb\u001b[39m=\u001b[39m\u001b[39m0\u001b[39m, vtype\u001b[39m=\u001b[39mGRB\u001b[39m.\u001b[39mCONTINUOUS, name\u001b[39m=\u001b[39m\u001b[39m\"\u001b[39m\u001b[39mx2\u001b[39m\u001b[39m\"\u001b[39m)\n",
      "\u001b[0;31mNameError\u001b[0m: name 'model' is not defined"
     ]
    }
   ],
   "source": [
    "# Create decision variables\n",
    "\n",
    "x1 = model.addVar(lb=0, vtype=GRB.CONTINUOUS, name=\"x1\")\n",
    "x2 = model.addVar(lb=0, vtype=GRB.CONTINUOUS, name=\"x2\")"
   ]
  },
  {
   "cell_type": "code",
   "execution_count": null,
   "id": "203d6320",
   "metadata": {},
   "outputs": [],
   "source": [
    "# Set objective function\n",
    "\n",
    "model.setObjective(6*x1 + 3*x2, GRB.MINIMIZE)"
   ]
  },
  {
   "cell_type": "code",
   "execution_count": null,
   "id": "3a4e89a6",
   "metadata": {},
   "outputs": [
    {
     "data": {
      "text/plain": [
       "<gurobi.Constr *Awaiting Model Update*>"
      ]
     },
     "execution_count": 26,
     "metadata": {},
     "output_type": "execute_result"
    }
   ],
   "source": [
    "# Add constraints\n",
    "\n",
    "model.addConstr(2*x1 + 4*x2 >= 16, \"c1\")\n",
    "model.addConstr(4*x1 + 3*x2 >= 24, \"c2\")"
   ]
  },
  {
   "cell_type": "code",
   "execution_count": null,
   "id": "f0c8075b",
   "metadata": {},
   "outputs": [
    {
     "name": "stdout",
     "output_type": "stream",
     "text": [
      "Gurobi Optimizer version 9.5.2 build v9.5.2rc0 (win64)\n",
      "Thread count: 8 physical cores, 16 logical processors, using up to 16 threads\n",
      "Optimize a model with 2 rows, 2 columns and 4 nonzeros\n",
      "Model fingerprint: 0xd32db337\n",
      "Coefficient statistics:\n",
      "  Matrix range     [2e+00, 4e+00]\n",
      "  Objective range  [3e+00, 6e+00]\n",
      "  Bounds range     [0e+00, 0e+00]\n",
      "  RHS range        [2e+01, 2e+01]\n",
      "Presolve time: 0.00s\n",
      "Presolved: 2 rows, 2 columns, 4 nonzeros\n",
      "\n",
      "Iteration    Objective       Primal Inf.    Dual Inf.      Time\n",
      "       0    0.0000000e+00   2.000000e+01   0.000000e+00      0s\n",
      "       1    2.4000000e+01   0.000000e+00   0.000000e+00      0s\n",
      "\n",
      "Solved in 1 iterations and 0.00 seconds (0.00 work units)\n",
      "Optimal objective  2.400000000e+01\n"
     ]
    }
   ],
   "source": [
    "# Optimize model\n",
    "\n",
    "model.optimize()"
   ]
  },
  {
   "cell_type": "code",
   "execution_count": null,
   "id": "9ff2f70e",
   "metadata": {},
   "outputs": [
    {
     "name": "stdout",
     "output_type": "stream",
     "text": [
      "Optimal Solution: x1=0.0, x2=8.0\n",
      "Optimal Value: 24.0\n"
     ]
    }
   ],
   "source": [
    "# Print optimal solution and optimal value\n",
    "\n",
    "print(\"Optimal Solution: x1={}, x2={}\".format(x1.x, x2.x))\n",
    "print(\"Optimal Value: {}\".format(model.objVal))"
   ]
  },
  {
   "cell_type": "code",
   "execution_count": null,
   "id": "107df182",
   "metadata": {},
   "outputs": [],
   "source": []
  }
 ],
 "metadata": {
  "kernelspec": {
   "display_name": "Python 3 (ipykernel)",
   "language": "python",
   "name": "python3"
  },
  "language_info": {
   "codemirror_mode": {
    "name": "ipython",
    "version": 3
   },
   "file_extension": ".py",
   "mimetype": "text/x-python",
   "name": "python",
   "nbconvert_exporter": "python",
   "pygments_lexer": "ipython3",
   "version": "3.10.11"
  }
 },
 "nbformat": 4,
 "nbformat_minor": 5
}
